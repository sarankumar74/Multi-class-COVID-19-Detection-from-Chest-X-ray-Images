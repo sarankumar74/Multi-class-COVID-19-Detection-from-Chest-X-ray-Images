{
  "cells": [
    {
      "cell_type": "markdown",
      "metadata": {
        "id": "PO6tVxcVIPSi"
      },
      "source": [
        "# Import All Models"
      ]
    },
    {
      "cell_type": "code",
      "execution_count": null,
      "metadata": {
        "colab": {
          "base_uri": "https://localhost:8080/"
        },
        "id": "viGQCNfmKF7x",
        "outputId": "97a8049b-c357-4c2c-c853-cda570f830fe"
      },
      "outputs": [
        {
          "name": "stdout",
          "output_type": "stream",
          "text": [
            "Using device: cpu\n"
          ]
        }
      ],
      "source": [
        "import torch\n",
        "import torch.nn as nn\n",
        "import torch.optim as optim\n",
        "from torch.utils.data import DataLoader\n",
        "from torchvision import datasets, transforms, models\n",
        "import matplotlib.pyplot as plt\n",
        "import numpy as np\n",
        "import time\n",
        "from sklearn.metrics import confusion_matrix, ConfusionMatrixDisplay\n",
        "\n",
        "device = torch.device(\"cuda\" if torch.cuda.is_available() else \"cpu\")\n",
        "print(\"Using device:\", device)\n"
      ]
    },
    {
      "cell_type": "markdown",
      "metadata": {
        "id": "MrdV9jk3Hvj_"
      },
      "source": [
        "# Transfrom the images Sizes and Change into Tensor Formates"
      ]
    },
    {
      "cell_type": "code",
      "execution_count": null,
      "metadata": {
        "id": "23vhomMdKF4Z"
      },
      "outputs": [],
      "source": [
        "train_transform = transforms.Compose([\n",
        "    transforms.Resize((224, 224)),\n",
        "    transforms.RandomHorizontalFlip(),\n",
        "    transforms.RandomRotation(10),\n",
        "    transforms.ToTensor(),\n",
        "    transforms.Normalize(mean=[0.5,0.5,0.5], std=[0.5,0.5,0.5])\n",
        "])\n",
        "\n",
        "val_transform = transforms.Compose([\n",
        "    transforms.Resize((224, 224)),\n",
        "    transforms.ToTensor(),\n",
        "    transforms.Normalize(mean=[0.5,0.5,0.5], std=[0.5,0.5,0.5])\n",
        "])\n"
      ]
    },
    {
      "cell_type": "markdown",
      "metadata": {
        "id": "LHyQ1uHGH70B"
      },
      "source": [
        "# Load Datasets And Transform It"
      ]
    },
    {
      "cell_type": "code",
      "execution_count": null,
      "metadata": {
        "colab": {
          "base_uri": "https://localhost:8080/"
        },
        "id": "s3r8dwdhKF10",
        "outputId": "20851d8b-475d-459d-dcf5-4ccbdc6fdef1"
      },
      "outputs": [
        {
          "name": "stdout",
          "output_type": "stream",
          "text": [
            "Number of classes: 3\n"
          ]
        }
      ],
      "source": [
        "train_dataset_path = r\"/content/drive/MyDrive/AIML Final Projects/Multiclass Covid X-Rays/Covid19-dataset/train\"\n",
        "test_dataset_path = r\"/content/drive/MyDrive/AIML Final Projects/Multiclass Covid X-Rays/Covid19-dataset/test\"\n",
        "\n",
        "train_dataset = datasets.ImageFolder(train_dataset_path, transform=train_transform)\n",
        "test_dataset = datasets.ImageFolder(test_dataset_path, transform=val_transform)\n",
        "\n",
        "\n",
        "train_loader = DataLoader(train_dataset, batch_size=32, shuffle=True)\n",
        "test_loader = DataLoader(test_dataset, batch_size=32, shuffle=False)\n",
        "\n",
        "num_classes = len(train_dataset.classes)\n",
        "print(f\"Number of classes: {num_classes}\")"
      ]
    },
    {
      "cell_type": "code",
      "execution_count": null,
      "metadata": {
        "colab": {
          "base_uri": "https://localhost:8080/"
        },
        "id": "_sUoab1zKdVO",
        "outputId": "454c5b32-3c86-43bc-b67b-0ec21f230ede"
      },
      "outputs": [
        {
          "name": "stdout",
          "output_type": "stream",
          "text": [
            "Classes: ['Covid', 'Normal', 'Viral Pneumonia']\n"
          ]
        }
      ],
      "source": [
        "train_dataset = datasets.ImageFolder(root='/content/drive/MyDrive/AIML Final Projects/Multiclass Covid X-Rays/Covid19-dataset/train', transform=train_transform)\n",
        "test_dataset  = datasets.ImageFolder(root='/content/drive/MyDrive/AIML Final Projects/Multiclass Covid X-Rays/Covid19-dataset/test', transform=val_transform)\n",
        "\n",
        "train_loader = DataLoader(train_dataset, batch_size=32, shuffle=True)\n",
        "test_loader  = DataLoader(test_dataset, batch_size=32, shuffle=False)\n",
        "\n",
        "classes = train_dataset.classes\n",
        "print(\"Classes:\", classes)\n"
      ]
    },
    {
      "cell_type": "markdown",
      "metadata": {
        "id": "HYcR7v7gILvG"
      },
      "source": [
        "# VGG16 Model and Add a New Layers in Pretrained Model"
      ]
    },
    {
      "cell_type": "code",
      "execution_count": null,
      "metadata": {
        "id": "xfKIlW5WKV6s"
      },
      "outputs": [],
      "source": [
        "vgg16 = models.vgg16(pretrained=True)\n",
        "\n",
        "\n",
        "for param in vgg16.features.parameters():\n",
        "    param.requires_grad = False\n",
        "\n",
        "\n",
        "num_classes = len(classes)\n",
        "vgg16.classifier = nn.Sequential(\n",
        "    nn.Linear(25088, 4096),\n",
        "    nn.ReLU(),\n",
        "    nn.Dropout(0.5),\n",
        "    nn.Linear(4096, 1024),\n",
        "    nn.ReLU(),\n",
        "    nn.Dropout(0.5),\n",
        "    nn.Linear(1024, num_classes)\n",
        ")\n",
        "\n",
        "vgg16 = vgg16.to(device)\n"
      ]
    },
    {
      "cell_type": "markdown",
      "metadata": {
        "id": "4msYV0ebIVEt"
      },
      "source": [
        "# Initial a Loss Functions"
      ]
    },
    {
      "cell_type": "code",
      "execution_count": null,
      "metadata": {
        "id": "AlQMTzlmKV3L"
      },
      "outputs": [],
      "source": [
        "criterion = nn.CrossEntropyLoss()\n",
        "optimizer = optim.Adam(vgg16.classifier.parameters(), lr=0.001)\n"
      ]
    },
    {
      "cell_type": "markdown",
      "metadata": {
        "id": "EOv2c7jvIbvD"
      },
      "source": [
        "# Trained a VGG16 Models in our Own Datasets"
      ]
    },
    {
      "cell_type": "code",
      "execution_count": null,
      "metadata": {
        "colab": {
          "base_uri": "https://localhost:8080/"
        },
        "id": "OsMq54mwKV00",
        "outputId": "6fceff58-d1a0-4848-99ab-9d988a1c69b3"
      },
      "outputs": [
        {
          "name": "stdout",
          "output_type": "stream",
          "text": [
            "Epoch [1/5] Train Loss: 5.1442 | Train Acc: 47.01% | Val Loss: 1.8313 | Val Acc: 68.18% | Time: 329.6s\n",
            "Epoch [2/5] Train Loss: 0.5855 | Train Acc: 75.70% | Val Loss: 0.4897 | Val Acc: 69.70% | Time: 239.4s\n",
            "Epoch [3/5] Train Loss: 0.3677 | Train Acc: 84.46% | Val Loss: 0.4671 | Val Acc: 71.21% | Time: 239.0s\n",
            "Epoch [4/5] Train Loss: 0.3734 | Train Acc: 85.26% | Val Loss: 0.5459 | Val Acc: 77.27% | Time: 240.1s\n",
            "Epoch [5/5] Train Loss: 0.2085 | Train Acc: 91.63% | Val Loss: 0.2593 | Val Acc: 90.91% | Time: 240.0s\n"
          ]
        }
      ],
      "source": [
        "num_epochs = 5\n",
        "\n",
        "for epoch in range(1, num_epochs+1):\n",
        "\n",
        "    vgg16.train()\n",
        "    total_loss = 0\n",
        "    correct = 0\n",
        "    total = 0\n",
        "    start = time.time()\n",
        "\n",
        "    for x, y in train_loader:\n",
        "        x, y = x.to(device), y.to(device)\n",
        "\n",
        "        optimizer.zero_grad()\n",
        "        outputs = vgg16(x)\n",
        "        loss = criterion(outputs, y)\n",
        "        loss.backward()\n",
        "        optimizer.step()\n",
        "\n",
        "        total_loss += loss.item()\n",
        "        _, predicted = torch.max(outputs, 1)\n",
        "        total += y.size(0)\n",
        "        correct += (predicted == y).sum().item()\n",
        "\n",
        "    train_acc = 100 * correct / total\n",
        "    avg_train_loss = total_loss / len(train_loader)\n",
        "\n",
        "    vgg16.eval()\n",
        "    val_loss = 0\n",
        "    val_correct = 0\n",
        "    val_total = 0\n",
        "    with torch.no_grad():\n",
        "        for x_val, y_val in test_loader:\n",
        "            x_val, y_val = x_val.to(device), y_val.to(device)\n",
        "            outputs = vgg16(x_val)\n",
        "            loss = criterion(outputs, y_val)\n",
        "            val_loss += loss.item()\n",
        "\n",
        "            _, predicted = torch.max(outputs, 1)\n",
        "            val_total += y_val.size(0)\n",
        "            val_correct += (predicted == y_val).sum().item()\n",
        "\n",
        "    val_acc = 100 * val_correct / val_total\n",
        "    avg_val_loss = val_loss / len(test_loader)\n",
        "\n",
        "    print(f\"Epoch [{epoch}/{num_epochs}] \"\n",
        "          f\"Train Loss: {avg_train_loss:.4f} | Train Acc: {train_acc:.2f}% | \"\n",
        "          f\"Val Loss: {avg_val_loss:.4f} | Val Acc: {val_acc:.2f}% | \"\n",
        "          f\"Time: {time.time()-start:.1f}s\")\n"
      ]
    },
    {
      "cell_type": "markdown",
      "metadata": {
        "id": "mUxx0g3gIs5g"
      },
      "source": [
        "# Model Evalivations"
      ]
    },
    {
      "cell_type": "code",
      "execution_count": null,
      "metadata": {
        "colab": {
          "base_uri": "https://localhost:8080/"
        },
        "id": "EFXUdHJYKVyQ",
        "outputId": "ce41305b-2c57-4437-a137-a1e79009464b"
      },
      "outputs": [
        {
          "name": "stdout",
          "output_type": "stream",
          "text": [
            "✅ Test Loss: 0.1603 | Test Acc: 95.45%\n"
          ]
        }
      ],
      "source": [
        "vgg16.eval()\n",
        "test_loss = 0\n",
        "test_correct = 0\n",
        "test_total = 0\n",
        "\n",
        "with torch.no_grad():\n",
        "    for x_test, y_test in test_loader:\n",
        "        x_test, y_test = x_test.to(device), y_test.to(device)\n",
        "        outputs = vgg16(x_test)\n",
        "        loss = criterion(outputs, y_test)\n",
        "        test_loss += loss.item()\n",
        "\n",
        "        _, predicted = torch.max(outputs, 1)\n",
        "        test_total += y_test.size(0)\n",
        "        test_correct += (predicted == y_test).sum().item()\n",
        "\n",
        "test_acc = 100 * test_correct / test_total\n",
        "avg_test_loss = test_loss / len(test_loader)\n",
        "\n",
        "print(f\"✅ Test Loss: {avg_test_loss:.4f} | Test Acc: {test_acc:.2f}%\")\n"
      ]
    },
    {
      "cell_type": "markdown",
      "metadata": {
        "id": "PR09Js3mIxMY"
      },
      "source": [
        "# Check a Model Confusion Matrix"
      ]
    },
    {
      "cell_type": "code",
      "execution_count": null,
      "metadata": {
        "colab": {
          "base_uri": "https://localhost:8080/",
          "height": 588
        },
        "id": "wxJhIqDAKVvn",
        "outputId": "ce309bdc-ade0-4bc4-8523-18fa342da5e3"
      },
      "outputs": [
        {
          "data": {
            "text/plain": [
              "<Figure size 800x800 with 0 Axes>"
            ]
          },
          "metadata": {},
          "output_type": "display_data"
        },
        {
          "data": {
            "image/png": "[encoded data removed]",
            "text/plain": [
              "<Figure size 640x480 with 2 Axes>"
            ]
          },
          "metadata": {},
          "output_type": "display_data"
        }
      ],
      "source": [
        "y_true = []\n",
        "y_pred = []\n",
        "\n",
        "with torch.no_grad():\n",
        "    for x_test, y_test in test_loader:\n",
        "        x_test = x_test.to(device)\n",
        "        outputs = vgg16(x_test)\n",
        "        _, predicted = torch.max(outputs, 1)\n",
        "        y_true.extend(y_test.cpu().numpy())\n",
        "        y_pred.extend(predicted.cpu().numpy())\n",
        "\n",
        "cm = confusion_matrix(y_true, y_pred)\n",
        "disp = ConfusionMatrixDisplay(cm, display_labels=classes)\n",
        "plt.figure(figsize=(8,8))\n",
        "disp.plot(cmap=plt.cm.Blues, xticks_rotation='vertical')\n",
        "plt.title(\"Confusion Matrix\")\n",
        "plt.show()\n"
      ]
    },
    {
      "cell_type": "code",
      "execution_count": null,
      "metadata": {
        "id": "pfiArfDFPncp"
      },
      "outputs": [],
      "source": [
        "# covid = 25\n",
        "# Normal = 19\n",
        "# Pneumonia = 19\n",
        "# t = 64"
      ]
    },
    {
      "cell_type": "markdown",
      "metadata": {
        "id": "QMYqOq0iI_cM"
      },
      "source": [
        "# Save a Trained VGG16 Model in our own datasets"
      ]
    },
    {
      "cell_type": "code",
      "execution_count": null,
      "metadata": {
        "colab": {
          "base_uri": "https://localhost:8080/"
        },
        "id": "JbK9EjgMKVtM",
        "outputId": "d4cdd44a-95f2-4530-a45d-2ca273a2a095"
      },
      "outputs": [
        {
          "name": "stdout",
          "output_type": "stream",
          "text": [
            "Model saved to Google Drive\n"
          ]
        }
      ],
      "source": [
        "torch.save(vgg16.state_dict(), '/content/drive/MyDrive/AIML Final Projects/Covid19 Xray CNN Models 2.pth')\n",
        "print(\"Model saved to Google Drive\")"
      ]
    },
    {
      "cell_type": "markdown",
      "metadata": {
        "id": "nUHk_bsQI6to"
      },
      "source": [
        "# Load a Trained models"
      ]
    },
    {
      "cell_type": "code",
      "execution_count": null,
      "metadata": {
        "colab": {
          "base_uri": "https://localhost:8080/"
        },
        "id": "n8O38hWB7yus",
        "outputId": "7f64cbef-c151-47ba-828e-29b8ebc0e2e5"
      },
      "outputs": [
        {
          "name": "stderr",
          "output_type": "stream",
          "text": [
            "/usr/local/lib/python3.12/dist-packages/torchvision/models/_utils.py:208: UserWarning: The parameter 'pretrained' is deprecated since 0.13 and may be removed in the future, please use 'weights' instead.\n",
            "  warnings.warn(\n",
            "/usr/local/lib/python3.12/dist-packages/torchvision/models/_utils.py:223: UserWarning: Arguments other than a weight enum or `None` for 'weights' are deprecated since 0.13 and may be removed in the future. The current behavior is equivalent to passing `weights=None`.\n",
            "  warnings.warn(msg)\n"
          ]
        }
      ],
      "source": [
        "import torch\n",
        "import torch.nn as nn\n",
        "from torchvision import models\n",
        "\n",
        "num_classes = 3\n",
        "\n",
        "model = models.vgg16(pretrained=False)\n",
        "\n",
        "model.classifier = nn.Sequential(\n",
        "    nn.Linear(25088, 4096),\n",
        "    nn.ReLU(),\n",
        "    nn.Dropout(0.5),\n",
        "    nn.Linear(4096, 1024),\n",
        "    nn.ReLU(),\n",
        "    nn.Dropout(0.5),\n",
        "    nn.Linear(1024, num_classes)\n",
        ")"
      ]
    },
    {
      "cell_type": "code",
      "execution_count": null,
      "metadata": {
        "colab": {
          "base_uri": "https://localhost:8080/"
        },
        "id": "r_fIwdpoYjK3",
        "outputId": "ce26be31-94af-4c9a-9ac9-0668e2e1a84c"
      },
      "outputs": [
        {
          "data": {
            "text/plain": [
              "VGG(\n",
              "  (features): Sequential(\n",
              "    (0): Conv2d(3, 64, kernel_size=(3, 3), stride=(1, 1), padding=(1, 1))\n",
              "    (1): ReLU(inplace=True)\n",
              "    (2): Conv2d(64, 64, kernel_size=(3, 3), stride=(1, 1), padding=(1, 1))\n",
              "    (3): ReLU(inplace=True)\n",
              "    (4): MaxPool2d(kernel_size=2, stride=2, padding=0, dilation=1, ceil_mode=False)\n",
              "    (5): Conv2d(64, 128, kernel_size=(3, 3), stride=(1, 1), padding=(1, 1))\n",
              "    (6): ReLU(inplace=True)\n",
              "    (7): Conv2d(128, 128, kernel_size=(3, 3), stride=(1, 1), padding=(1, 1))\n",
              "    (8): ReLU(inplace=True)\n",
              "    (9): MaxPool2d(kernel_size=2, stride=2, padding=0, dilation=1, ceil_mode=False)\n",
              "    (10): Conv2d(128, 256, kernel_size=(3, 3), stride=(1, 1), padding=(1, 1))\n",
              "    (11): ReLU(inplace=True)\n",
              "    (12): Conv2d(256, 256, kernel_size=(3, 3), stride=(1, 1), padding=(1, 1))\n",
              "    (13): ReLU(inplace=True)\n",
              "    (14): Conv2d(256, 256, kernel_size=(3, 3), stride=(1, 1), padding=(1, 1))\n",
              "    (15): ReLU(inplace=True)\n",
              "    (16): MaxPool2d(kernel_size=2, stride=2, padding=0, dilation=1, ceil_mode=False)\n",
              "    (17): Conv2d(256, 512, kernel_size=(3, 3), stride=(1, 1), padding=(1, 1))\n",
              "    (18): ReLU(inplace=True)\n",
              "    (19): Conv2d(512, 512, kernel_size=(3, 3), stride=(1, 1), padding=(1, 1))\n",
              "    (20): ReLU(inplace=True)\n",
              "    (21): Conv2d(512, 512, kernel_size=(3, 3), stride=(1, 1), padding=(1, 1))\n",
              "    (22): ReLU(inplace=True)\n",
              "    (23): MaxPool2d(kernel_size=2, stride=2, padding=0, dilation=1, ceil_mode=False)\n",
              "    (24): Conv2d(512, 512, kernel_size=(3, 3), stride=(1, 1), padding=(1, 1))\n",
              "    (25): ReLU(inplace=True)\n",
              "    (26): Conv2d(512, 512, kernel_size=(3, 3), stride=(1, 1), padding=(1, 1))\n",
              "    (27): ReLU(inplace=True)\n",
              "    (28): Conv2d(512, 512, kernel_size=(3, 3), stride=(1, 1), padding=(1, 1))\n",
              "    (29): ReLU(inplace=True)\n",
              "    (30): MaxPool2d(kernel_size=2, stride=2, padding=0, dilation=1, ceil_mode=False)\n",
              "  )\n",
              "  (avgpool): AdaptiveAvgPool2d(output_size=(7, 7))\n",
              "  (classifier): Sequential(\n",
              "    (0): Linear(in_features=25088, out_features=4096, bias=True)\n",
              "    (1): ReLU()\n",
              "    (2): Dropout(p=0.5, inplace=False)\n",
              "    (3): Linear(in_features=4096, out_features=1024, bias=True)\n",
              "    (4): ReLU()\n",
              "    (5): Dropout(p=0.5, inplace=False)\n",
              "    (6): Linear(in_features=1024, out_features=3, bias=True)\n",
              "  )\n",
              ")"
            ]
          },
          "execution_count": 71,
          "metadata": {},
          "output_type": "execute_result"
        }
      ],
      "source": [
        "state_dict = torch.load(\"/content/drive/MyDrive/AIML Final Projects/Covid19 Xray CNN Models 2.pth\", map_location=torch.device('cpu'))\n",
        "model.load_state_dict(state_dict)\n",
        "model.eval()  # Set to evaluation mode"
      ]
    },
    {
      "cell_type": "code",
      "execution_count": null,
      "metadata": {
        "colab": {
          "base_uri": "https://localhost:8080/",
          "height": 52
        },
        "id": "9SMtOTzJW_3-",
        "outputId": "21213b0f-1123-4a21-e992-b6c02e609ace"
      },
      "outputs": [
        {
          "data": {
            "application/javascript": "\n    async function download(id, filename, size) {\n      if (!google.colab.kernel.accessAllowed) {\n        return;\n      }\n      const div = document.createElement('div');\n      const label = document.createElement('label');\n      label.textContent = `Downloading \"${filename}\": `;\n      div.appendChild(label);\n      const progress = document.createElement('progress');\n      progress.max = size;\n      div.appendChild(progress);\n      document.body.appendChild(div);\n\n      const buffers = [];\n      let downloaded = 0;\n\n      const channel = await google.colab.kernel.comms.open(id);\n      // Send a message to notify the kernel that we're ready.\n      channel.send({})\n\n      for await (const message of channel.messages) {\n        // Send a message to notify the kernel that we're ready.\n        channel.send({})\n        if (message.buffers) {\n          for (const buffer of message.buffers) {\n            buffers.push(buffer);\n            downloaded += buffer.byteLength;\n            progress.value = downloaded;\n          }\n        }\n      }\n      const blob = new Blob(buffers, {type: 'application/binary'});\n      const a = document.createElement('a');\n      a.href = window.URL.createObjectURL(blob);\n      a.download = filename;\n      div.appendChild(a);\n      a.click();\n      div.remove();\n    }\n  ",
            "text/plain": [
              "<IPython.core.display.Javascript object>"
            ]
          },
          "metadata": {},
          "output_type": "display_data"
        },
        {
          "data": {
            "application/javascript": "download(\"download_b5daecb3-7b87-4bf4-9fb6-52ac8b65ce46\", \"Covid19 Xray CNN Model.pth\", 486732861)",
            "text/plain": [
              "<IPython.core.display.Javascript object>"
            ]
          },
          "metadata": {},
          "output_type": "display_data"
        },
        {
          "name": "stdout",
          "output_type": "stream",
          "text": [
            "Model Is Saved\n"
          ]
        }
      ],
      "source": [
        "from google.colab import files\n",
        "files.download(\"Covid19 Xray CNN Model.pth\")\n",
        "print(\"Model Is Saved\")"
      ]
    },
    {
      "cell_type": "code",
      "execution_count": null,
      "metadata": {
        "colab": {
          "base_uri": "https://localhost:8080/"
        },
        "id": "JJ_7sWNaXdUc",
        "outputId": "904a489b-e3f6-4d33-8e9e-7ba5b29a8d3d"
      },
      "outputs": [
        {
          "name": "stdout",
          "output_type": "stream",
          "text": [
            "Drive already mounted at /content/drive; to attempt to forcibly remount, call drive.mount(\"/content/drive\", force_remount=True).\n",
            "Model saved to Google Drive\n"
          ]
        }
      ],
      "source": [
        "from google.colab import drive\n",
        "drive.mount('/content/drive')\n",
        "\n",
        "# Save the model directly to Drive\n",
        "torch.save(vgg16.state_dict(), '/content/drive/MyDrive/AIML Final Projects/Covid19 Xray CNN Model Final.pth')\n",
        "print(\"Model saved to Google Drive\")\n"
      ]
    },
    {
      "cell_type": "code",
      "execution_count": null,
      "metadata": {
        "id": "pHrG3L7fYApJ"
      },
      "outputs": [],
      "source": []
    },
    {
      "cell_type": "code",
      "execution_count": null,
      "metadata": {
        "id": "6jA3J9riYAmt"
      },
      "outputs": [],
      "source": []
    }
  ],
  "metadata": {
    "accelerator": "GPU",
    "colab": {
      "gpuType": "T4",
      "provenance": []
    },
    "kernelspec": {
      "display_name": "Python 3",
      "name": "python3"
    },
    "language_info": {
      "name": "python"
    }
  },
  "nbformat": 4,
  "nbformat_minor": 0
}
